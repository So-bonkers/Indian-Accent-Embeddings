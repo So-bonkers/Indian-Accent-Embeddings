{
 "cells": [
  {
   "cell_type": "markdown",
   "metadata": {},
   "source": [
    "# Get the LibriSpeech Clean Dataset\n",
    "\n",
    "For the purpose of this project, we use ~500 hrs of 'clean' dataset obtained from LibriSpeech Clean data for training. This includes:\n",
    "1. train-clean-360\n",
    "2. train-clean-100\n",
    "3. dev-clean\n",
    "4. test-clean\n",
    "\n",
    "These were downloaded and merged into a single folder, which consisted of 1252 fist level folders, here saved into the training-clean folder. Each of these folders contained the audio files for a particular speaker. The audio files were in .flac format.\n",
    "\n",
    "We then create a vocabulary using text transcripts"
   ]
  },
  {
   "cell_type": "code",
   "execution_count": 3,
   "metadata": {},
   "outputs": [],
   "source": [
    "import sys\n",
    "import glob\n",
    "import os\n",
    "import pandas as pd\n",
    "import numpy as np\n",
    "import librosa\n",
    "import collections\n",
    "import matplotlib.pyplot as plt\n",
    "import random\n",
    "\n",
    "sys.path.append(\"/training-clean\".join(sys.path[0].split(\"/training-clean\")[:-1]))\n",
    "from utils import *"
   ]
  },
  {
   "cell_type": "code",
   "execution_count": 4,
   "metadata": {},
   "outputs": [],
   "source": [
    "def read_txt(file_path):\n",
    "    total_lines = []\n",
    "    with open(file_path, 'r') as f:\n",
    "        lines = f.readlines()\n",
    "        for l in lines:\n",
    "            word_arr = l.lower().strip().split()\n",
    "            assert len(word_arr) >= 2, l\n",
    "            word_arr = word_arr[1:]\n",
    "            total_lines.append(word_arr)\n",
    "    return total_lines\n",
    "\n",
    "def create_word_counter(root_folder):\n",
    "    pattern = root_folder + '*/*/*.txt'\n",
    "    arr = glob.glob(pattern)\n",
    "    arr.sort()\n",
    "    assert len(arr) == 2866\n",
    "    total_lines = []\n",
    "    for txt in arr:\n",
    "        total_lines.extend(read_txt(txt))\n",
    "\n",
    "    counter = collections.Counter()\n",
    "    for line in total_lines:\n",
    "        for word in line:\n",
    "            counter[word] += 1\n",
    "    return counter"
   ]
  },
  {
   "cell_type": "markdown",
   "metadata": {},
   "source": [
    "# Get alignment files\n",
    "\n",
    "Download the ```.txt``` alignment files openly available on GitHub. These files contain the start and end times of each word in the audio file. We use these files to create a vocabulary of words."
   ]
  },
  {
   "cell_type": "code",
   "execution_count": 5,
   "metadata": {},
   "outputs": [],
   "source": [
    "def handle_single_alignment_file(p1):\n",
    "    obj_list = []\n",
    "    with open(p1, 'r') as f:\n",
    "        lines = f.readlines()\n",
    "        lines = [l.strip() for l in lines if l.strip()]\n",
    "        for l in lines:\n",
    "            key, text, time_str = l.strip()\n",
    "            text_string = text[1:-1]\n",
    "            time_string = time_string[1:-1]\n",
    "            text_array = text_string.lower().split(\",\")\n",
    "            time_array = [float(c) for c in time_string.split(\",\")]\n",
    "            assert len(time_array) == len(text_array)\n",
    "            ans_time_array = []\n",
    "            ans_word_array = []\n",
    "            for i in range(len(text_array)):\n",
    "                word = text_array[i]\n",
    "                if i > 0:\n",
    "                    start_time = time_array[i-1]\n",
    "                else:\n",
    "                    start_time = 0\n",
    "\n",
    "                end_time = time_array[i]\n",
    "                if word:\n",
    "                    ans_word_array.append(word)\n",
    "                    ans_time_array.append((start_time, end_time))\n",
    "            audio_duration = time_array[-1]\n",
    "            obj = {\"key\": key, \"word_array\": ans_word_array, \"time_array\": ans_time_array, \"duration\": audio_duration}\n",
    "            obj_list.append(obj)\n",
    "    return obj_list\n",
    "\n",
    "def convert_alignment_files(alignment_folder):\n",
    "    #step 1: get all the alginment files\n",
    "    names = ['test-clean', 'train-clean-360', 'train-clean-100', 'dev-clean']\n",
    "    txt_file_arr = []\n",
    "    for name in names:\n",
    "        pattern = alignment_folder + name + '/*/*.txt'\n",
    "        txt_file_arr.extend(glob.glob(pattern))\n",
    "    assert len(txt_file_arr) == 2866\n",
    "\n",
    "    all_objs = []\n",
    "    for f in txt_file_arr:\n",
    "        all_objs.extend(handle_single_alignment_file(f))\n",
    "    assert len(all_objs) == 137833\n",
    "    return all_objs\n",
    "\n",
    "def create_word2keys(all_objs):\n",
    "    word2keys = collections.defaultdict(list)\n",
    "    for obj in all_objs:\n",
    "        key = obj[\"key\"]\n",
    "        word_array = obj[\"word_array\"]\n",
    "        for word in word_array:\n",
    "            word2keys[word].append(key)\n",
    "    return word2keys"
   ]
  },
  {
   "cell_type": "markdown",
   "metadata": {},
   "source": []
  }
 ],
 "metadata": {
  "kernelspec": {
   "display_name": "Python 3.9.12 ('base')",
   "language": "python",
   "name": "python3"
  },
  "language_info": {
   "codemirror_mode": {
    "name": "ipython",
    "version": 3
   },
   "file_extension": ".py",
   "mimetype": "text/x-python",
   "name": "python",
   "nbconvert_exporter": "python",
   "pygments_lexer": "ipython3",
   "version": "3.9.12"
  },
  "vscode": {
   "interpreter": {
    "hash": "406b5d54ff4cf30a68c7210b5b8a20232f6c59171c3be094b83223424e52e1f2"
   }
  }
 },
 "nbformat": 4,
 "nbformat_minor": 2
}
